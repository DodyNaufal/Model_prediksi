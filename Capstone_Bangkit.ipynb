{
  "cells": [
    {
      "cell_type": "markdown",
      "metadata": {
        "id": "ZBTnw_Id7XcJ"
      },
      "source": [
        "a# Import Library"
      ]
    },
    {
      "cell_type": "code",
      "execution_count": null,
      "metadata": {
        "id": "qbUe2N9pkHN-"
      },
      "outputs": [],
      "source": [
        "import numpy as np\n",
        "import pandas as pd\n",
        "import matplotlib.pyplot as plt\n",
        "import tensorflow as tf\n",
        "from tensorflow.keras.models import Sequential, load_model\n",
        "from tensorflow.keras.layers import Dense, LSTM, Dropout\n",
        "from sklearn.preprocessing import MinMaxScaler\n",
        "from sklearn.metrics import mean_squared_error\n",
        "from sklearn.metrics import mean_absolute_error\n",
        "from sklearn.metrics import r2_score\n",
        "from sklearn.metrics import explained_variance_score\n",
        "from sklearn.metrics import max_error\n",
        "\n",
        "# from utils.utils import generate_synthetic_data, generate_final_features, split_dataset\n",
        "import warnings\n",
        "warnings.filterwarnings(\"ignore\")\n",
        "from datetime import datetime, timedelta"
      ]
    },
    {
      "cell_type": "code",
      "execution_count": null,
      "metadata": {
        "colab": {
          "base_uri": "https://localhost:8080/"
        },
        "id": "CTQ8xJ_aFlmE",
        "outputId": "e3c25505-24bb-4fbf-c6b9-679250f9dba4"
      },
      "outputs": [
        {
          "output_type": "stream",
          "name": "stdout",
          "text": [
            "Collecting pendulum\n",
            "  Downloading pendulum-3.0.0-cp310-cp310-manylinux_2_17_x86_64.manylinux2014_x86_64.whl (384 kB)\n",
            "\u001b[2K     \u001b[90m━━━━━━━━━━━━━━━━━━━━━━━━━━━━━━━━━━━━━━━━\u001b[0m \u001b[32m384.9/384.9 kB\u001b[0m \u001b[31m2.3 MB/s\u001b[0m eta \u001b[36m0:00:00\u001b[0m\n",
            "\u001b[?25hRequirement already satisfied: python-dateutil>=2.6 in /usr/local/lib/python3.10/dist-packages (from pendulum) (2.8.2)\n",
            "Requirement already satisfied: tzdata>=2020.1 in /usr/local/lib/python3.10/dist-packages (from pendulum) (2024.1)\n",
            "Collecting time-machine>=2.6.0 (from pendulum)\n",
            "  Downloading time_machine-2.14.1-cp310-cp310-manylinux_2_5_x86_64.manylinux1_x86_64.manylinux_2_17_x86_64.manylinux2014_x86_64.whl (34 kB)\n",
            "Requirement already satisfied: six>=1.5 in /usr/local/lib/python3.10/dist-packages (from python-dateutil>=2.6->pendulum) (1.16.0)\n",
            "Installing collected packages: time-machine, pendulum\n",
            "Successfully installed pendulum-3.0.0 time-machine-2.14.1\n"
          ]
        }
      ],
      "source": [
        "!pip install pendulum"
      ]
    },
    {
      "cell_type": "code",
      "execution_count": null,
      "metadata": {
        "id": "N2xzhafZFeXP"
      },
      "outputs": [],
      "source": [
        "from pendulum import DateTime\n",
        "from pendulum import duration\n",
        "import pandas as pd\n",
        "import numpy as np\n",
        "from random import randint\n",
        "from sklearn.model_selection import train_test_split\n",
        "\n",
        "def generate_synthetic_data(duration_cycle, start_day, year, start_month_index=1, number_of_cycle=5, period_duration=30, cycle_interval=[5, 6], period_interval=[26, 30]):\n",
        "    \"\"\"\n",
        "    function that generate the synthetic data\n",
        "\n",
        "        Args:\n",
        "            duration_cycle (int): duration of the cycle in days\n",
        "            start_day (int): day of the first cycle\n",
        "            year (int): year of the first cycle\n",
        "            start_month_index (int): month of the first cycle\n",
        "            number_of_cycle (int): number of cycles\n",
        "            period_duration (int): duration of the period between cycles in days\n",
        "            cycle_interval (list): interval of the duration of the cycle in days\n",
        "            period_interval (list): interval of the duration of the period between cycles in days\n",
        "\n",
        "        Return:\n",
        "            df (pd.DataFrame): dataframe with the synthetic data\n",
        "        \"\"\"\n",
        "    data_frame = pd.DataFrame(columns=['M', 'Day', 'Year', 'Duration'])\n",
        "\n",
        "    start_time = DateTime(year, start_month_index, start_day, 1, 0, 0)\n",
        "    end_time = start_time+duration(days=duration_cycle)\n",
        "\n",
        "    for _ in range(0, number_of_cycle+1):\n",
        "\n",
        "            data_frame = pd.concat([data_frame, pd.DataFrame(np.array([[start_time.month, start_time.day, start_time.year, 'Starts']]),\n",
        "                                                             columns=['M', 'Day', 'Year', 'Duration'])],  ignore_index=True, axis=0)\n",
        "\n",
        "            data_frame = pd.concat([data_frame, pd.DataFrame(np.array([[end_time.month, end_time.day, end_time.year, 'Ends']]),\n",
        "                                                             columns=['M', 'Day', 'Year', 'Duration'])],  ignore_index=True, axis=0)\n",
        "\n",
        "            #TODO(Cibely): Make the durantion_cycle and period_duration be random values\n",
        "            duration_cycle = randint(cycle_interval[0], cycle_interval[1])\n",
        "            period_duration = randint(period_interval[0], period_interval[1])\n",
        "\n",
        "            start_time = start_time+duration(days=period_duration)\n",
        "            end_time = start_time+duration(days=duration_cycle)\n",
        "\n",
        "    return data_frame\n",
        "\n",
        "\n",
        "def calculate_period_length(dates, dates_numbers):\n",
        "    \"\"\"\n",
        "    function that calculate the length of the period\n",
        "\n",
        "    Args:\n",
        "        dates (list): list of dates\n",
        "        dates_numbers (int): number of dates\n",
        "\n",
        "    Returns:\n",
        "        period_length (list): list of length of the period in days\n",
        "    \"\"\"\n",
        "    period_length = []\n",
        "    for index in range(0,dates_numbers,2):\n",
        "        period_length.append((dates[index+1] - dates[index]).days)\n",
        "\n",
        "    return period_length\n",
        "\n",
        "\n",
        "def calculate_cycle_length(dates, dates_numbers):\n",
        "    \"\"\"\n",
        "    function that calculate the length of the cycle\n",
        "\n",
        "    Args:\n",
        "        dates (list): list of dates\n",
        "        dates_numbers (int): number of dates\n",
        "\n",
        "    Returns:\n",
        "        cycle_length (list): list of length of the cycle in days\n",
        "    \"\"\"\n",
        "    cycle_length = []\n",
        "    for index in range(0,dates_numbers-2,2):\n",
        "        cycle_length.append((dates[index+2] - dates[index]).days)\n",
        "\n",
        "    return cycle_length\n",
        "\n",
        "\n",
        "def calculate_datatime(dataset):\n",
        "    \"\"\"\n",
        "    function that calculate the datetime of the dates\n",
        "\n",
        "    Args:\n",
        "        dataset (pd.DataFrame): dataframe with the data\n",
        "\n",
        "    Returns:\n",
        "        formatted_dataset (list): list with the features\n",
        "    \"\"\"\n",
        "\n",
        "    dates_format=pd.to_datetime(dict(year=dataset.Year, month=dataset.M, day=dataset.Day))\n",
        "    period_length=calculate_period_length(dates_format, len(dataset))\n",
        "    cycle=calculate_cycle_length(dates_format, len(dataset))\n",
        "\n",
        "    formatted_dataset=[]\n",
        "    index=0\n",
        "    for date_index in range(0,len(dates_format)-2,2):\n",
        "        formatted_dataset.append([dates_format[date_index].date(), cycle[index], period_length[index]])\n",
        "        index+=1\n",
        "\n",
        "    return formatted_dataset\n",
        "\n",
        "\n",
        "def prepared_the_features(periods):\n",
        "    \"\"\"\n",
        "    function that prepare the features for the prediction\n",
        "\n",
        "\n",
        "    Args:\n",
        "        periods (list): list of the periods\n",
        "\n",
        "    Returns:\n",
        "        features (np.array): array with the features\n",
        "        labels (np.array): array with the labels\n",
        "    \"\"\"\n",
        "\n",
        "    features = []\n",
        "    labels = []\n",
        "    for period in periods[:-3]:\n",
        "        p_index = periods.index(period)\n",
        "        features.append([])\n",
        "        features[-1].append([period[-2], period[-1]])\n",
        "        features[-1].append([periods[p_index + 1][-2], periods[p_index + 1][-1]])\n",
        "        features[-1].append([periods[p_index + 2][-2], periods[p_index + 2][-1]])\n",
        "        labels.append([periods[p_index + 3][-2], periods[p_index + 3][-1]])\n",
        "    #TODO(Cibely): verify that len(features) == len(labels) must be true\n",
        "\n",
        "    return features, labels\n",
        "\n",
        "\n",
        "def generate_final_features(dataset):\n",
        "    \"\"\"\n",
        "    function that generate the final dataset\n",
        "\n",
        "    Args:\n",
        "        dataset (pd.DataFrame): dataframe with the data\n",
        "\n",
        "    Returns:\n",
        "        final_dataset (list): list with the final dataset\n",
        "    \"\"\"\n",
        "\n",
        "    dataset_with_datatime = calculate_datatime(dataset)\n",
        "\n",
        "    return prepared_the_features(dataset_with_datatime)\n",
        "\n",
        "def split_dataset(features, labels, test_size=0.2, random_state=0, reshape=True):\n",
        "    \"\"\"\n",
        "    function that split the dataset\n",
        "\n",
        "    Args:\n",
        "        features (np.array): array with the features\n",
        "        labels (np.array): array with the labels\n",
        "        test_size (float): percentage of the test size\n",
        "        random_state (int): random state\n",
        "\n",
        "    Returns:\n",
        "        train_features (np.array): array with the train features\n",
        "        test_features (np.array): array with the test features\n",
        "        train_labels (np.array): array with the train labels\n",
        "        test_labels (np.array): array with the test labels\n",
        "    \"\"\"\n",
        "\n",
        "\n",
        "    train_features, test_features, train_labels, test_labels = train_test_split(features, labels, test_size=test_size, random_state=random_state)\n",
        "    train_features = np.array(train_features)\n",
        "    test_features = np.array(test_features)\n",
        "    train_labels = np.array(train_labels)\n",
        "    test_labels = np.array(test_labels)\n",
        "    if reshape:\n",
        "        train_features = train_features.reshape(train_features.shape[0], train_features.shape[1]*train_features.shape[2])\n",
        "        test_features = test_features.reshape(test_features.shape[0], test_features.shape[1]*test_features.shape[2])\n",
        "        train_labels = train_labels.reshape(train_labels.shape[0], train_labels.shape[1]*1)\n",
        "        test_labels = test_labels.reshape(test_labels.shape[0], test_labels.shape[1]*1)\n",
        "\n",
        "    return train_features, test_features, train_labels, test_labels\n",
        "\n",
        "def create_dataset(dataset, look_back=1):\n",
        "    \"\"\"\n",
        "        This function is used to create dataset for LSTM model\n",
        "        Args:\n",
        "            dataset: The dataset\n",
        "            look_back: The number of previous time steps to use as input variables to predict the next time period\n",
        "        Returns:\n",
        "            dataX: The input data\n",
        "            dataY: The output data\n",
        "    \"\"\"\n",
        "    dataX, dataY = [], []\n",
        "    for i in range(len(dataset)-look_back-1):\n",
        "        a = dataset[i:(i+look_back), 0]\n",
        "        dataX.append(a)\n",
        "        dataY.append(dataset[i + look_back, 0])\n",
        "    return np.array(dataX), np.array(dataY)\n",
        "\n",
        "\n",
        "def convet2dataframe(data, columns):\n",
        "    \"\"\"\n",
        "    function that convert the data to dataframe\n",
        "\n",
        "    Args:\n",
        "        data (np.array): array with the data\n",
        "        columns (list): list with the columns\n",
        "\n",
        "    Returns:\n",
        "\n",
        "    \"\"\"\n",
        "    data = data.reshape(1,-1,2)\n",
        "    data_frame = pd.DataFrame(data[0], columns=columns)\n",
        "    data_frame['time'] = data_frame.index\n",
        "    return data_frame"
      ]
    },
    {
      "cell_type": "markdown",
      "source": [
        "# Load Data"
      ],
      "metadata": {
        "id": "ikJ6KjUvclSZ"
      }
    },
    {
      "cell_type": "code",
      "execution_count": null,
      "metadata": {
        "id": "6w8J1wFa9kHR"
      },
      "outputs": [],
      "source": [
        "total_regular_cycle_data = pd.read_csv(\"https://raw.githubusercontent.com/DodyNaufal/Bike_Sharing_Dataset/main/total_regular_cycle_data.csv\")"
      ]
    },
    {
      "cell_type": "code",
      "execution_count": null,
      "metadata": {
        "colab": {
          "base_uri": "https://localhost:8080/",
          "height": 206
        },
        "id": "69vpvvZKAGvE",
        "outputId": "d39ee5bc-79b5-4e41-c9d1-27a3039a8955"
      },
      "outputs": [
        {
          "output_type": "execute_result",
          "data": {
            "text/plain": [
              "   M  Day  Year Duration\n",
              "0  1   25  2021   Starts\n",
              "1  1   30  2021     Ends\n",
              "2  2   24  2021   Starts\n",
              "3  3    1  2021     Ends\n",
              "4  3   26  2021   Starts"
            ],
            "text/html": [
              "\n",
              "  <div id=\"df-8cc7d493-241d-4edd-8c9f-80e68bc9a92d\" class=\"colab-df-container\">\n",
              "    <div>\n",
              "<style scoped>\n",
              "    .dataframe tbody tr th:only-of-type {\n",
              "        vertical-align: middle;\n",
              "    }\n",
              "\n",
              "    .dataframe tbody tr th {\n",
              "        vertical-align: top;\n",
              "    }\n",
              "\n",
              "    .dataframe thead th {\n",
              "        text-align: right;\n",
              "    }\n",
              "</style>\n",
              "<table border=\"1\" class=\"dataframe\">\n",
              "  <thead>\n",
              "    <tr style=\"text-align: right;\">\n",
              "      <th></th>\n",
              "      <th>M</th>\n",
              "      <th>Day</th>\n",
              "      <th>Year</th>\n",
              "      <th>Duration</th>\n",
              "    </tr>\n",
              "  </thead>\n",
              "  <tbody>\n",
              "    <tr>\n",
              "      <th>0</th>\n",
              "      <td>1</td>\n",
              "      <td>25</td>\n",
              "      <td>2021</td>\n",
              "      <td>Starts</td>\n",
              "    </tr>\n",
              "    <tr>\n",
              "      <th>1</th>\n",
              "      <td>1</td>\n",
              "      <td>30</td>\n",
              "      <td>2021</td>\n",
              "      <td>Ends</td>\n",
              "    </tr>\n",
              "    <tr>\n",
              "      <th>2</th>\n",
              "      <td>2</td>\n",
              "      <td>24</td>\n",
              "      <td>2021</td>\n",
              "      <td>Starts</td>\n",
              "    </tr>\n",
              "    <tr>\n",
              "      <th>3</th>\n",
              "      <td>3</td>\n",
              "      <td>1</td>\n",
              "      <td>2021</td>\n",
              "      <td>Ends</td>\n",
              "    </tr>\n",
              "    <tr>\n",
              "      <th>4</th>\n",
              "      <td>3</td>\n",
              "      <td>26</td>\n",
              "      <td>2021</td>\n",
              "      <td>Starts</td>\n",
              "    </tr>\n",
              "  </tbody>\n",
              "</table>\n",
              "</div>\n",
              "    <div class=\"colab-df-buttons\">\n",
              "\n",
              "  <div class=\"colab-df-container\">\n",
              "    <button class=\"colab-df-convert\" onclick=\"convertToInteractive('df-8cc7d493-241d-4edd-8c9f-80e68bc9a92d')\"\n",
              "            title=\"Convert this dataframe to an interactive table.\"\n",
              "            style=\"display:none;\">\n",
              "\n",
              "  <svg xmlns=\"http://www.w3.org/2000/svg\" height=\"24px\" viewBox=\"0 -960 960 960\">\n",
              "    <path d=\"M120-120v-720h720v720H120Zm60-500h600v-160H180v160Zm220 220h160v-160H400v160Zm0 220h160v-160H400v160ZM180-400h160v-160H180v160Zm440 0h160v-160H620v160ZM180-180h160v-160H180v160Zm440 0h160v-160H620v160Z\"/>\n",
              "  </svg>\n",
              "    </button>\n",
              "\n",
              "  <style>\n",
              "    .colab-df-container {\n",
              "      display:flex;\n",
              "      gap: 12px;\n",
              "    }\n",
              "\n",
              "    .colab-df-convert {\n",
              "      background-color: #E8F0FE;\n",
              "      border: none;\n",
              "      border-radius: 50%;\n",
              "      cursor: pointer;\n",
              "      display: none;\n",
              "      fill: #1967D2;\n",
              "      height: 32px;\n",
              "      padding: 0 0 0 0;\n",
              "      width: 32px;\n",
              "    }\n",
              "\n",
              "    .colab-df-convert:hover {\n",
              "      background-color: #E2EBFA;\n",
              "      box-shadow: 0px 1px 2px rgba(60, 64, 67, 0.3), 0px 1px 3px 1px rgba(60, 64, 67, 0.15);\n",
              "      fill: #174EA6;\n",
              "    }\n",
              "\n",
              "    .colab-df-buttons div {\n",
              "      margin-bottom: 4px;\n",
              "    }\n",
              "\n",
              "    [theme=dark] .colab-df-convert {\n",
              "      background-color: #3B4455;\n",
              "      fill: #D2E3FC;\n",
              "    }\n",
              "\n",
              "    [theme=dark] .colab-df-convert:hover {\n",
              "      background-color: #434B5C;\n",
              "      box-shadow: 0px 1px 3px 1px rgba(0, 0, 0, 0.15);\n",
              "      filter: drop-shadow(0px 1px 2px rgba(0, 0, 0, 0.3));\n",
              "      fill: #FFFFFF;\n",
              "    }\n",
              "  </style>\n",
              "\n",
              "    <script>\n",
              "      const buttonEl =\n",
              "        document.querySelector('#df-8cc7d493-241d-4edd-8c9f-80e68bc9a92d button.colab-df-convert');\n",
              "      buttonEl.style.display =\n",
              "        google.colab.kernel.accessAllowed ? 'block' : 'none';\n",
              "\n",
              "      async function convertToInteractive(key) {\n",
              "        const element = document.querySelector('#df-8cc7d493-241d-4edd-8c9f-80e68bc9a92d');\n",
              "        const dataTable =\n",
              "          await google.colab.kernel.invokeFunction('convertToInteractive',\n",
              "                                                    [key], {});\n",
              "        if (!dataTable) return;\n",
              "\n",
              "        const docLinkHtml = 'Like what you see? Visit the ' +\n",
              "          '<a target=\"_blank\" href=https://colab.research.google.com/notebooks/data_table.ipynb>data table notebook</a>'\n",
              "          + ' to learn more about interactive tables.';\n",
              "        element.innerHTML = '';\n",
              "        dataTable['output_type'] = 'display_data';\n",
              "        await google.colab.output.renderOutput(dataTable, element);\n",
              "        const docLink = document.createElement('div');\n",
              "        docLink.innerHTML = docLinkHtml;\n",
              "        element.appendChild(docLink);\n",
              "      }\n",
              "    </script>\n",
              "  </div>\n",
              "\n",
              "\n",
              "<div id=\"df-9b4cb26f-d77d-4179-826c-9e9652ceb62f\">\n",
              "  <button class=\"colab-df-quickchart\" onclick=\"quickchart('df-9b4cb26f-d77d-4179-826c-9e9652ceb62f')\"\n",
              "            title=\"Suggest charts\"\n",
              "            style=\"display:none;\">\n",
              "\n",
              "<svg xmlns=\"http://www.w3.org/2000/svg\" height=\"24px\"viewBox=\"0 0 24 24\"\n",
              "     width=\"24px\">\n",
              "    <g>\n",
              "        <path d=\"M19 3H5c-1.1 0-2 .9-2 2v14c0 1.1.9 2 2 2h14c1.1 0 2-.9 2-2V5c0-1.1-.9-2-2-2zM9 17H7v-7h2v7zm4 0h-2V7h2v10zm4 0h-2v-4h2v4z\"/>\n",
              "    </g>\n",
              "</svg>\n",
              "  </button>\n",
              "\n",
              "<style>\n",
              "  .colab-df-quickchart {\n",
              "      --bg-color: #E8F0FE;\n",
              "      --fill-color: #1967D2;\n",
              "      --hover-bg-color: #E2EBFA;\n",
              "      --hover-fill-color: #174EA6;\n",
              "      --disabled-fill-color: #AAA;\n",
              "      --disabled-bg-color: #DDD;\n",
              "  }\n",
              "\n",
              "  [theme=dark] .colab-df-quickchart {\n",
              "      --bg-color: #3B4455;\n",
              "      --fill-color: #D2E3FC;\n",
              "      --hover-bg-color: #434B5C;\n",
              "      --hover-fill-color: #FFFFFF;\n",
              "      --disabled-bg-color: #3B4455;\n",
              "      --disabled-fill-color: #666;\n",
              "  }\n",
              "\n",
              "  .colab-df-quickchart {\n",
              "    background-color: var(--bg-color);\n",
              "    border: none;\n",
              "    border-radius: 50%;\n",
              "    cursor: pointer;\n",
              "    display: none;\n",
              "    fill: var(--fill-color);\n",
              "    height: 32px;\n",
              "    padding: 0;\n",
              "    width: 32px;\n",
              "  }\n",
              "\n",
              "  .colab-df-quickchart:hover {\n",
              "    background-color: var(--hover-bg-color);\n",
              "    box-shadow: 0 1px 2px rgba(60, 64, 67, 0.3), 0 1px 3px 1px rgba(60, 64, 67, 0.15);\n",
              "    fill: var(--button-hover-fill-color);\n",
              "  }\n",
              "\n",
              "  .colab-df-quickchart-complete:disabled,\n",
              "  .colab-df-quickchart-complete:disabled:hover {\n",
              "    background-color: var(--disabled-bg-color);\n",
              "    fill: var(--disabled-fill-color);\n",
              "    box-shadow: none;\n",
              "  }\n",
              "\n",
              "  .colab-df-spinner {\n",
              "    border: 2px solid var(--fill-color);\n",
              "    border-color: transparent;\n",
              "    border-bottom-color: var(--fill-color);\n",
              "    animation:\n",
              "      spin 1s steps(1) infinite;\n",
              "  }\n",
              "\n",
              "  @keyframes spin {\n",
              "    0% {\n",
              "      border-color: transparent;\n",
              "      border-bottom-color: var(--fill-color);\n",
              "      border-left-color: var(--fill-color);\n",
              "    }\n",
              "    20% {\n",
              "      border-color: transparent;\n",
              "      border-left-color: var(--fill-color);\n",
              "      border-top-color: var(--fill-color);\n",
              "    }\n",
              "    30% {\n",
              "      border-color: transparent;\n",
              "      border-left-color: var(--fill-color);\n",
              "      border-top-color: var(--fill-color);\n",
              "      border-right-color: var(--fill-color);\n",
              "    }\n",
              "    40% {\n",
              "      border-color: transparent;\n",
              "      border-right-color: var(--fill-color);\n",
              "      border-top-color: var(--fill-color);\n",
              "    }\n",
              "    60% {\n",
              "      border-color: transparent;\n",
              "      border-right-color: var(--fill-color);\n",
              "    }\n",
              "    80% {\n",
              "      border-color: transparent;\n",
              "      border-right-color: var(--fill-color);\n",
              "      border-bottom-color: var(--fill-color);\n",
              "    }\n",
              "    90% {\n",
              "      border-color: transparent;\n",
              "      border-bottom-color: var(--fill-color);\n",
              "    }\n",
              "  }\n",
              "</style>\n",
              "\n",
              "  <script>\n",
              "    async function quickchart(key) {\n",
              "      const quickchartButtonEl =\n",
              "        document.querySelector('#' + key + ' button');\n",
              "      quickchartButtonEl.disabled = true;  // To prevent multiple clicks.\n",
              "      quickchartButtonEl.classList.add('colab-df-spinner');\n",
              "      try {\n",
              "        const charts = await google.colab.kernel.invokeFunction(\n",
              "            'suggestCharts', [key], {});\n",
              "      } catch (error) {\n",
              "        console.error('Error during call to suggestCharts:', error);\n",
              "      }\n",
              "      quickchartButtonEl.classList.remove('colab-df-spinner');\n",
              "      quickchartButtonEl.classList.add('colab-df-quickchart-complete');\n",
              "    }\n",
              "    (() => {\n",
              "      let quickchartButtonEl =\n",
              "        document.querySelector('#df-9b4cb26f-d77d-4179-826c-9e9652ceb62f button');\n",
              "      quickchartButtonEl.style.display =\n",
              "        google.colab.kernel.accessAllowed ? 'block' : 'none';\n",
              "    })();\n",
              "  </script>\n",
              "</div>\n",
              "    </div>\n",
              "  </div>\n"
            ],
            "application/vnd.google.colaboratory.intrinsic+json": {
              "type": "dataframe",
              "variable_name": "total_regular_cycle_data",
              "summary": "{\n  \"name\": \"total_regular_cycle_data\",\n  \"rows\": 50,\n  \"fields\": [\n    {\n      \"column\": \"M\",\n      \"properties\": {\n        \"dtype\": \"number\",\n        \"std\": 3,\n        \"min\": 1,\n        \"max\": 12,\n        \"num_unique_values\": 12,\n        \"samples\": [\n          11,\n          10,\n          1\n        ],\n        \"semantic_type\": \"\",\n        \"description\": \"\"\n      }\n    },\n    {\n      \"column\": \"Day\",\n      \"properties\": {\n        \"dtype\": \"number\",\n        \"std\": 8,\n        \"min\": 1,\n        \"max\": 31,\n        \"num_unique_values\": 26,\n        \"samples\": [\n          21,\n          10,\n          25\n        ],\n        \"semantic_type\": \"\",\n        \"description\": \"\"\n      }\n    },\n    {\n      \"column\": \"Year\",\n      \"properties\": {\n        \"dtype\": \"number\",\n        \"std\": 0,\n        \"min\": 2021,\n        \"max\": 2022,\n        \"num_unique_values\": 2,\n        \"samples\": [\n          2022,\n          2021\n        ],\n        \"semantic_type\": \"\",\n        \"description\": \"\"\n      }\n    },\n    {\n      \"column\": \"Duration\",\n      \"properties\": {\n        \"dtype\": \"category\",\n        \"num_unique_values\": 2,\n        \"samples\": [\n          \"Ends\",\n          \"Starts\"\n        ],\n        \"semantic_type\": \"\",\n        \"description\": \"\"\n      }\n    }\n  ]\n}"
            }
          },
          "metadata": {},
          "execution_count": 5
        }
      ],
      "source": [
        "total_regular_cycle_data.head()"
      ]
    },
    {
      "cell_type": "code",
      "execution_count": null,
      "metadata": {
        "id": "fo12X1BpA1RU"
      },
      "outputs": [],
      "source": [
        "# generate the final features\n",
        "features_total_regular_cycle_data, labels_total_regular_cycle_data = generate_final_features(total_regular_cycle_data)"
      ]
    },
    {
      "cell_type": "code",
      "execution_count": null,
      "metadata": {
        "id": "sgMbNmcbFwfi"
      },
      "outputs": [],
      "source": [
        "# slice the data with split_dataset function\n",
        "input_train_total_regular_cycle, input_test_total_regular_cycle, output_train_total_regular_cycle, output_test_total_regular_cycle = split_dataset(features_total_regular_cycle_data, labels_total_regular_cycle_data, reshape=False)"
      ]
    },
    {
      "cell_type": "code",
      "execution_count": null,
      "metadata": {
        "colab": {
          "base_uri": "https://localhost:8080/",
          "height": 447
        },
        "id": "KSMLvPE3F2iS",
        "outputId": "d41b0feb-b267-434f-9b68-18b08f7deadf"
      },
      "outputs": [
        {
          "output_type": "execute_result",
          "data": {
            "text/plain": [
              "[<matplotlib.lines.Line2D at 0x7aff41783be0>]"
            ]
          },
          "metadata": {},
          "execution_count": 8
        },
        {
          "output_type": "display_data",
          "data": {
            "text/plain": [
              "<Figure size 640x480 with 1 Axes>"
            ],
            "image/png": "[encoded data removed]"
          },
          "metadata": {}
        }
      ],
      "source": [
        "plt.plot(np.arange(16),input_train_total_regular_cycle[:,0,0], '->')\n",
        "plt.plot(np.arange(16, 2*16),output_train_total_regular_cycle[:,0], '-o')"
      ]
    },
    {
      "cell_type": "markdown",
      "source": [
        "#Create Model"
      ],
      "metadata": {
        "id": "4AjHhkkzc3wA"
      }
    },
    {
      "cell_type": "code",
      "execution_count": null,
      "metadata": {
        "colab": {
          "base_uri": "https://localhost:8080/"
        },
        "id": "2-OM1IUQGC9e",
        "outputId": "e72f8e0d-38d0-4dfa-d6e7-d2599a8e6edc"
      },
      "outputs": [
        {
          "output_type": "stream",
          "name": "stdout",
          "text": [
            "Model: \"sequential\"\n",
            "_________________________________________________________________\n",
            " Layer (type)                Output Shape              Param #   \n",
            "=================================================================\n",
            " lstm (LSTM)                 (None, 64)                17152     \n",
            "                                                                 \n",
            " dropout (Dropout)           (None, 64)                0         \n",
            "                                                                 \n",
            " dense (Dense)               (None, 2)                 130       \n",
            "                                                                 \n",
            "=================================================================\n",
            "Total params: 17282 (67.51 KB)\n",
            "Trainable params: 17282 (67.51 KB)\n",
            "Non-trainable params: 0 (0.00 Byte)\n",
            "_________________________________________________________________\n"
          ]
        }
      ],
      "source": [
        "# create and fit the LSTM network\n",
        "n_features = input_train_total_regular_cycle.shape[2]\n",
        "model = Sequential()\n",
        "model.add(LSTM(64, input_shape=(3, n_features),  activation='tanh'))\n",
        "model.add(Dropout(0.05))\n",
        "model.add(Dense(n_features, activation='relu'))\n",
        "model.summary()"
      ]
    },
    {
      "cell_type": "code",
      "execution_count": null,
      "metadata": {
        "id": "o7Bzw7bAGHtf"
      },
      "outputs": [],
      "source": [
        "opt=tf.keras.optimizers.Adam(learning_rate=0.01)\n",
        "model.compile(loss='mean_squared_error', optimizer=opt, run_eagerly=True)\n",
        "# add early stopping\n",
        "early_stopping = tf.keras.callbacks.EarlyStopping( monitor='val_loss', patience=5, restore_best_weights=True)"
      ]
    },
    {
      "cell_type": "code",
      "execution_count": null,
      "metadata": {
        "colab": {
          "base_uri": "https://localhost:8080/"
        },
        "id": "PHTB_A5DGJvm",
        "outputId": "ad5ca216-851a-4505-a015-a9f62ea942dc"
      },
      "outputs": [
        {
          "output_type": "stream",
          "name": "stdout",
          "text": [
            "Epoch 1/100\n",
            "1/1 [==============================] - 0s 401ms/step - loss: 0.7213 - val_loss: 0.3580\n",
            "Epoch 2/100\n",
            "1/1 [==============================] - 0s 95ms/step - loss: 1.4511 - val_loss: 0.3644\n",
            "Epoch 3/100\n",
            "1/1 [==============================] - 0s 125ms/step - loss: 0.9603 - val_loss: 0.3728\n",
            "Epoch 4/100\n",
            "1/1 [==============================] - 0s 122ms/step - loss: 0.7314 - val_loss: 0.3836\n",
            "Epoch 5/100\n",
            "1/1 [==============================] - 0s 113ms/step - loss: 1.3042 - val_loss: 0.3954\n",
            "Epoch 6/100\n",
            "1/1 [==============================] - 0s 81ms/step - loss: 0.7434 - val_loss: 0.4093\n"
          ]
        }
      ],
      "source": [
        "history = model.fit(input_train_total_regular_cycle, output_train_total_regular_cycle, epochs=100, batch_size=32, validation_split=0.2, verbose=1, callbacks=[early_stopping])"
      ]
    },
    {
      "cell_type": "code",
      "execution_count": null,
      "metadata": {
        "colab": {
          "base_uri": "https://localhost:8080/",
          "height": 333
        },
        "id": "DSqkTAISGaWM",
        "outputId": "22a61ad3-50ed-40c8-c813-dad3315cb673"
      },
      "outputs": [
        {
          "output_type": "display_data",
          "data": {
            "text/plain": [
              "<Figure size 400x300 with 2 Axes>"
            ],
            "image/png": "[encoded data removed]"
          },
          "metadata": {}
        }
      ],
      "source": [
        "# plot the loss and val loss\n",
        "plt.figure(figsize=(4, 3))\n",
        "plt.plot(history.history['loss'], '-', linewidth=2)\n",
        "plt.plot(history.history['val_loss'], '--', linewidth=2)\n",
        "plt.grid(True)\n",
        "plt.legend(['Train', 'Validation'])\n",
        "plt.ylabel('Loss')\n",
        "plt.xlabel('Epoch')\n",
        "plt.title('Case 1: LSTM model loss')\n",
        "ax = plt.axes([0.6, 0.4, .20, .20])\n",
        "plt.plot(history.history['loss'], '-', linewidth=2)\n",
        "plt.plot(history.history['val_loss'], '--', linewidth=2)\n",
        "plt.grid(True)\n",
        "ax.set_ylim(0.1, 3)\n",
        "ax.set_xlim(70, 93)\n",
        "# save history\n",
        "history_df = pd.DataFrame(history.history)\n",
        "history_df.to_csv('case1_history_lstm.csv', index=False)\n"
      ]
    },
    {
      "cell_type": "code",
      "execution_count": null,
      "metadata": {
        "colab": {
          "base_uri": "https://localhost:8080/"
        },
        "id": "_TkNBpzDGtLi",
        "outputId": "643aa655-fbc9-4877-a7ec-8bd2d960edea"
      },
      "outputs": [
        {
          "output_type": "stream",
          "name": "stdout",
          "text": [
            "1/1 [==============================] - 0s 39ms/step\n",
            "1/1 [==============================] - 0s 54ms/step\n"
          ]
        }
      ],
      "source": [
        "# make predictions\n",
        "trainPredict = model.predict(input_train_total_regular_cycle)\n",
        "testPredict = model.predict(input_test_total_regular_cycle)\n",
        "testPredict = np.round(testPredict)"
      ]
    },
    {
      "cell_type": "code",
      "execution_count": null,
      "metadata": {
        "colab": {
          "base_uri": "https://localhost:8080/"
        },
        "id": "x997JccxGvrf",
        "outputId": "f96df160-d541-40ec-9100-7baabcc51102"
      },
      "outputs": [
        {
          "output_type": "stream",
          "name": "stdout",
          "text": [
            "Test Score: 20.65 RMSE\n",
            "Test Score: 14.60 MAE\n",
            "Test Score: -760.79 R2\n"
          ]
        }
      ],
      "source": [
        "# calculate root mean squared error\n",
        "testScore = np.sqrt(mean_squared_error(output_test_total_regular_cycle, testPredict))\n",
        "print('Test Score: %.2f RMSE' % (testScore))\n",
        "\n",
        "# calculate mean absolute error\n",
        "testScore = mean_absolute_error(output_test_total_regular_cycle, testPredict)\n",
        "print('Test Score: %.2f MAE' % (testScore))\n",
        "\n",
        "# calculate r2 score\n",
        "testScore = r2_score(output_test_total_regular_cycle, testPredict)\n",
        "print('Test Score: %.2f R2' % (testScore))\n",
        "\n",
        "\n"
      ]
    },
    {
      "cell_type": "code",
      "execution_count": null,
      "metadata": {
        "colab": {
          "base_uri": "https://localhost:8080/",
          "height": 333
        },
        "id": "CorvdI-YG0pv",
        "outputId": "4c6e35bb-b28d-48c2-8475-eeebff345c2b"
      },
      "outputs": [
        {
          "output_type": "display_data",
          "data": {
            "text/plain": [
              "<Figure size 400x300 with 1 Axes>"
            ],
            "image/png": "[encoded data removed]"
          },
          "metadata": {}
        }
      ],
      "source": [
        "# plot baseline and predictions\n",
        "plt.figure(figsize=(4, 3))\n",
        "plt.plot(np.arange(5),output_test_total_regular_cycle[:,0], '-->', linewidth=2.0)\n",
        "plt.plot(np.arange(5, 6),testPredict[0,0], '-o')\n",
        "# round the number in axis\n",
        "plt.gca().yaxis.set_major_locator(plt.MaxNLocator(integer=True))\n",
        "plt.ylabel('Days')\n",
        "plt.xlabel('Cycle number')\n",
        "plt.legend(['Cycle duration', 'Prediction (LSTM)'])\n",
        "plt.title('Case 1: Predict the next cycle duration')\n",
        "plt.grid(True)\n",
        "plt.show()"
      ]
    },
    {
      "cell_type": "code",
      "execution_count": null,
      "metadata": {
        "colab": {
          "base_uri": "https://localhost:8080/",
          "height": 333
        },
        "id": "QCnP810DG4Ir",
        "outputId": "20e84ae6-b3d3-40a5-b738-edb7c4801bf6"
      },
      "outputs": [
        {
          "output_type": "display_data",
          "data": {
            "text/plain": [
              "<Figure size 400x300 with 1 Axes>"
            ],
            "image/png": "[encoded data removed]"
          },
          "metadata": {}
        }
      ],
      "source": [
        "plt.figure(figsize=(4, 3))\n",
        "plt.plot(np.arange(5),output_test_total_regular_cycle[:,1], '-->', linewidth=2.0)\n",
        "plt.plot(np.arange(5, 6),testPredict[0,1], '-o')\n",
        "# round the number in axis\n",
        "plt.gca().yaxis.set_major_locator(plt.MaxNLocator(integer=True))\n",
        "#set the y axis range\n",
        "plt.ylim(4, 6)\n",
        "plt.ylabel('Days')\n",
        "plt.xlabel('Periods number')\n",
        "plt.legend(['Period duration', 'Prediction (LSTM)'])\n",
        "plt.title('Case 1: Predict the next period duration')\n",
        "plt.grid(True)\n",
        "plt.show()"
      ]
    },
    {
      "cell_type": "code",
      "execution_count": null,
      "metadata": {
        "colab": {
          "base_uri": "https://localhost:8080/"
        },
        "id": "aE2xXgjoTncq",
        "outputId": "22b2ed64-ead4-4fc0-ebb0-8f11ef281fcf"
      },
      "outputs": [
        {
          "output_type": "stream",
          "name": "stdout",
          "text": [
            "Model: \"sequential_1\"\n",
            "_________________________________________________________________\n",
            " Layer (type)                Output Shape              Param #   \n",
            "=================================================================\n",
            " lstm_1 (LSTM)               (None, 64)                17152     \n",
            "                                                                 \n",
            " dropout_1 (Dropout)         (None, 64)                0         \n",
            "                                                                 \n",
            " dense_1 (Dense)             (None, 2)                 130       \n",
            "                                                                 \n",
            "=================================================================\n",
            "Total params: 17282 (67.51 KB)\n",
            "Trainable params: 17282 (67.51 KB)\n",
            "Non-trainable params: 0 (0.00 Byte)\n",
            "_________________________________________________________________\n",
            "Epoch 1/10\n",
            "3/3 [==============================] - 8s 1s/step - loss: 0.2521 - val_loss: 0.2388\n",
            "Epoch 2/10\n",
            "3/3 [==============================] - 0s 92ms/step - loss: 0.2022 - val_loss: 0.2372\n",
            "Epoch 3/10\n",
            "3/3 [==============================] - 0s 81ms/step - loss: 0.1973 - val_loss: 0.2360\n",
            "Epoch 4/10\n",
            "3/3 [==============================] - 0s 74ms/step - loss: 0.1997 - val_loss: 0.2346\n",
            "Epoch 5/10\n",
            "3/3 [==============================] - 0s 63ms/step - loss: 0.1972 - val_loss: 0.2384\n",
            "Epoch 6/10\n",
            "3/3 [==============================] - 0s 93ms/step - loss: 0.1969 - val_loss: 0.2379\n",
            "Epoch 7/10\n",
            "3/3 [==============================] - 0s 47ms/step - loss: 0.1964 - val_loss: 0.2350\n",
            "Epoch 8/10\n",
            "3/3 [==============================] - 0s 48ms/step - loss: 0.1961 - val_loss: 0.2350\n",
            "Epoch 9/10\n",
            "3/3 [==============================] - 0s 115ms/step - loss: 0.1976 - val_loss: 0.2352\n",
            "Epoch 10/10\n",
            "3/3 [==============================] - 0s 60ms/step - loss: 0.1953 - val_loss: 0.2370\n",
            "Masukkan tanggal mulai siklus menstruasi (format YYYY-MM-DD): 2024-06-04\n",
            "Masukkan panjang siklus menstruasi (dalam hari): 20\n",
            "1/1 [==============================] - 0s 441ms/step\n",
            "Tanggal ovulasi Anda diperkirakan jatuh pada 2024-07-05.\n"
          ]
        }
      ],
      "source": [
        "# Fungsi untuk prediksi ovulasi\n",
        "def prediksi_ovulasi_lstm(model):\n",
        "    tanggal_mulai = input(\"Masukkan tanggal mulai siklus menstruasi (format YYYY-MM-DD): \")\n",
        "    panjang_siklus = int(input(\"Masukkan panjang siklus menstruasi (dalam hari): \"))\n",
        "\n",
        "    # Mengonversi input tanggal menjadi objek datetime\n",
        "    tanggal_mulai_dt = datetime.strptime(tanggal_mulai, '%Y-%m-%d')\n",
        "\n",
        "    # Buat fitur yang diperlukan untuk prediksi menggunakan model LSTM\n",
        "    features = []\n",
        "    for i in range(3):\n",
        "        features.append([panjang_siklus - (i * 2), panjang_siklus - (i * 2)])\n",
        "\n",
        "    features = np.array(features).reshape(1, 3, 2)\n",
        "\n",
        "    # Prediksi panjang siklus dan periode berikutnya menggunakan model LSTM\n",
        "    prediksi = model.predict(features)\n",
        "    prediksi_siklus_berikutnya = int(prediksi[0, 0])\n",
        "    prediksi_periode_berikutnya = int(prediksi[0, 1])\n",
        "\n",
        "    # Menghitung hari ovulasi\n",
        "    hari_ovulasi = prediksi_siklus_berikutnya\n",
        "\n",
        "    # Menghitung tanggal ovulasi untuk bulan depan\n",
        "    tanggal_mulai_bulan_depan = tanggal_mulai_dt.replace(day=28) + timedelta(days=4)  # untuk menghindari bulan yang lebih pendek\n",
        "    tanggal_mulai_bulan_depan = tanggal_mulai_bulan_depan - timedelta(days=tanggal_mulai_bulan_depan.day) + timedelta(days=tanggal_mulai_dt.day)\n",
        "    tanggal_ovulasi_bulan_depan = tanggal_mulai_bulan_depan + timedelta(days=hari_ovulasi)\n",
        "\n",
        "    print(f\"Tanggal ovulasi Anda diperkirakan jatuh pada {tanggal_ovulasi_bulan_depan.date()}.\")\n",
        "\n",
        "# Contoh pelatihan model LSTM dan menyimpan model\n",
        "def train_and_save_model():\n",
        "    # Contoh data latihan\n",
        "    input_train_total_regular_cycle = np.random.rand(100, 3, 2)\n",
        "    output_train_total_regular_cycle = np.random.rand(100, 2)\n",
        "\n",
        "    n_features = input_train_total_regular_cycle.shape[2]\n",
        "    model = Sequential()\n",
        "    model.add(LSTM(64, input_shape=(3, n_features), activation='tanh'))\n",
        "    model.add(Dropout(0.05))\n",
        "    model.add(Dense(n_features, activation='relu'))\n",
        "    model.summary()\n",
        "\n",
        "    opt = tf.keras.optimizers.Adam(learning_rate=0.01)\n",
        "    model.compile(loss='mean_squared_error', optimizer=opt)\n",
        "\n",
        "    # Pelatihan model\n",
        "    model.fit(input_train_total_regular_cycle, output_train_total_regular_cycle, epochs=10, batch_size=32, validation_split=0.2, verbose=1)\n",
        "\n",
        "    # Menyimpan model\n",
        "    model.save('lstm_model.h5')\n",
        "\n",
        "# Pelatihan dan penyimpanan model (hanya perlu dijalankan sekali)\n",
        "train_and_save_model()\n",
        "\n",
        "# Muat model yang telah disimpan\n",
        "model = load_model('lstm_model.h5')\n",
        "\n",
        "# Contoh penggunaan fungsi prediksi ovulasi\n",
        "prediksi_ovulasi_lstm(model)\n"
      ]
    },
    {
      "cell_type": "code",
      "source": [],
      "metadata": {
        "id": "8E7CY8GhDCpU"
      },
      "execution_count": null,
      "outputs": []
    }
  ],
  "metadata": {
    "colab": {
      "provenance": []
    },
    "kernelspec": {
      "display_name": "Python 3",
      "name": "python3"
    },
    "language_info": {
      "name": "python"
    }
  },
  "nbformat": 4,
  "nbformat_minor": 0
}